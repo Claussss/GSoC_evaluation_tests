{
  "nbformat": 4,
  "nbformat_minor": 0,
  "metadata": {
    "colab": {
      "name": "Common Test I. Simulating Superfluid Dark Matter (DM) with PyAutoLens ",
      "provenance": [],
      "collapsed_sections": [],
      "authorship_tag": "ABX9TyP2FXwhMYBYqcN/jO+wQ2yt",
      "include_colab_link": true
    },
    "kernelspec": {
      "name": "python3",
      "display_name": "Python 3"
    },
    "language_info": {
      "name": "python"
    }
  },
  "cells": [
    {
      "cell_type": "markdown",
      "metadata": {
        "id": "view-in-github",
        "colab_type": "text"
      },
      "source": [
        "<a href=\"https://colab.research.google.com/github/Claussss/GSoC_evaluation_tests/blob/main/Common_Test_I_Simulating_Superfluid_Dark_Matter_(DM)_with_PyAutoLens.ipynb\" target=\"_parent\"><img src=\"https://colab.research.google.com/assets/colab-badge.svg\" alt=\"Open In Colab\"/></a>"
      ]
    },
    {
      "cell_type": "markdown",
      "metadata": {
        "id": "zUCIGUAkTRw3"
      },
      "source": [
        "#Common Test I. Simulating Superfluid Dark Matter (DM) with PyAutoLens"
      ]
    },
    {
      "cell_type": "markdown",
      "metadata": {
        "id": "Jj3IZ5g4TWgP"
      },
      "source": [
        "Theoretically, there could be condensate models of dark matter. In this case, dark matter is a quasi-particle eccitation of the condensate. \n",
        "\n",
        "These condensate models have property to form vortices, which look like lines on our lensing images.\n",
        "\n",
        "For this task I have to simulate strong lensing from superfluid dark matter by using PyAutoLens.\n",
        "\n",
        "PyAutoLens doesn't have a 'Linear Mass' profile, so I use a set of PointMass profiles to form a line."
      ]
    },
    {
      "cell_type": "code",
      "metadata": {
        "id": "KBshZGY53E6h"
      },
      "source": [
        "%%capture\n",
        "!pip install autolens"
      ],
      "execution_count": 36,
      "outputs": []
    },
    {
      "cell_type": "code",
      "metadata": {
        "id": "cYunao7FLOyZ"
      },
      "source": [
        "%matplotlib inline\n",
        "\n",
        "import autolens as al\n",
        "import autolens.plot as aplt\n",
        "from astropy import cosmology as cosmo\n",
        "import math"
      ],
      "execution_count": 37,
      "outputs": []
    },
    {
      "cell_type": "markdown",
      "metadata": {
        "id": "_qUvPfN76Kb5"
      },
      "source": [
        "#### Parameters"
      ]
    },
    {
      "cell_type": "code",
      "metadata": {
        "id": "QeczHVOC6Lnn"
      },
      "source": [
        "#The pixel-scale describes the conversion from pixel units to arc-seconds.\n",
        "pixel_scales=0.05"
      ],
      "execution_count": 38,
      "outputs": []
    },
    {
      "cell_type": "markdown",
      "metadata": {
        "id": "2gK5NDWZ6M_Z"
      },
      "source": [
        "#### Grid"
      ]
    },
    {
      "cell_type": "code",
      "metadata": {
        "id": "VbiGbUAs6MXe"
      },
      "source": [
        "# Describes the deflection of light\n",
        "grid = al.Grid2D.uniform(shape_native=(150,150), pixel_scales=pixel_scales)"
      ],
      "execution_count": 39,
      "outputs": []
    },
    {
      "cell_type": "markdown",
      "metadata": {
        "id": "QQ-yo5R968oS"
      },
      "source": [
        "#### Source galaxy"
      ]
    },
    {
      "cell_type": "markdown",
      "metadata": {
        "id": "duHw2wVVXp0Q"
      },
      "source": [
        "Paramets were chosen and edited manually basing on the [PyAutoLense documentation](https://pyautolens.readthedocs.io/en/latest/).\n",
        "\n"
      ]
    },
    {
      "cell_type": "code",
      "metadata": {
        "id": "kqTZNZyE6OD2"
      },
      "source": [
        "source_light_profile = al.lp.EllipticalSersic(\n",
        "        centre=(0.5, 0.0), #  arc-second coordinates of the light profile centre\n",
        "        intensity=0.88, # intensity normalisation of the light profiles (electrons per second)\n",
        "        effective_radius=0.5, # circular radius containing half the light of the ligh profile\n",
        "        sersic_index=1.5 # lower value -> less concentrated, higher value -> more concentrated\n",
        "        )\n",
        "\n",
        "source_galaxy = al.Galaxy(redshift=1.0, light=source_light_profile)"
      ],
      "execution_count": 40,
      "outputs": []
    },
    {
      "cell_type": "markdown",
      "metadata": {
        "id": "K9-31uEJ9jBQ"
      },
      "source": [
        "#### Lens galaxy"
      ]
    },
    {
      "cell_type": "markdown",
      "metadata": {
        "id": "okaVE2OP9ucV"
      },
      "source": [
        "##### Mass Profiles"
      ]
    },
    {
      "cell_type": "code",
      "metadata": {
        "id": "gwV1PK94CvKY"
      },
      "source": [
        "# This number is set manually. We need enough points to set up a continuous line.\n",
        "n_points_mass= 20\n",
        "# Galaxy class constructor takes a list of masses in **kwards form, so I need to generate a dict of masses.\n",
        "# I use a modified transformation formula from polar to cartesian coordinates to find the start point for vortex.\n",
        "thetha = math.radians(2)\n",
        "x = -0.5*math.cos(thetha)\n",
        "y = -0.5*math.sin(thetha)\n",
        "\n",
        "lense_mass_profiles_dict = {\n",
        "    f'Point{i+1}':al.mp.PointMass(centre=(x + i*math.cos(thetha)/n_points_mass, \n",
        "                                          y + i*math.sin(thetha)/n_points_mass), \n",
        "                                          einstein_radius = 0.96/n_points_mass)\n",
        "                                          for i in range(n_points_mass)}\n",
        "# Addind dark matter halo mass profile\n",
        "lense_mass_profiles_dict['Dark Matter Halo'] = al.mp.SphericalIsothermal(centre=(0,0), einstein_radius=1.2)"
      ],
      "execution_count": 41,
      "outputs": []
    },
    {
      "cell_type": "markdown",
      "metadata": {
        "id": "V-_rpOvfIHce"
      },
      "source": [
        "##### Light Profile"
      ]
    },
    {
      "cell_type": "code",
      "metadata": {
        "id": "6KsiureY9kvH"
      },
      "source": [
        "lense_light_profile = al.lp.EllipticalSersic(\n",
        "        centre=(0,0), #  arc-second coordinates of the light profile centre\n",
        "        intensity=1.2, # intensity normalisation of the light profiles (electrons per second)\n",
        "        effective_radius=0.5, # circular radius containing half the light of the ligh profile\n",
        "        sersic_index=2.5 # lower value -> less concentrated, higher value -> more concentrated\n",
        "    )"
      ],
      "execution_count": 42,
      "outputs": []
    },
    {
      "cell_type": "markdown",
      "metadata": {
        "id": "G6QW5Cx9I4Gu"
      },
      "source": [
        "##### Creating Lense Galaxy"
      ]
    },
    {
      "cell_type": "code",
      "metadata": {
        "id": "6MW8YwcD9xng"
      },
      "source": [
        "lens_galaxy = al.Galaxy(\n",
        "    redshift=0.5, light=lense_light_profile, **lense_mass_profiles_dict)"
      ],
      "execution_count": 43,
      "outputs": []
    },
    {
      "cell_type": "markdown",
      "metadata": {
        "id": "1OCvoTJlJ1jv"
      },
      "source": [
        "#### Trace Galaxies"
      ]
    },
    {
      "cell_type": "code",
      "metadata": {
        "colab": {
          "base_uri": "https://localhost:8080/",
          "height": 458
        },
        "id": "sdZKE0HDJ6of",
        "outputId": "031b88ca-67a3-49f2-c558-b6f893da4d93"
      },
      "source": [
        "tracer = al.Tracer.from_galaxies([source_galaxy,lens_galaxy],cosmology=cosmo.Planck15)\n",
        "image = tracer.image_from_grid(grid=grid)\n",
        "\n",
        "tracer_plotter = aplt.TracerPlotter(tracer=tracer, grid=grid)\n",
        "tracer_plotter.figures(image=True)"
      ],
      "execution_count": 44,
      "outputs": [
        {
          "output_type": "display_data",
          "data": {
            "image/png": "[encoded data removed]",
            "text/plain": [
              "<Figure size 504x504 with 2 Axes>"
            ]
          },
          "metadata": {
            "tags": [],
            "needs_background": "light"
          }
        }
      ]
    }
  ]
}