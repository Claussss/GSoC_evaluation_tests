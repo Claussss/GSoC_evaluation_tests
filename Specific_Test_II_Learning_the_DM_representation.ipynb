{
  "nbformat": 4,
  "nbformat_minor": 0,
  "metadata": {
    "colab": {
      "name": "Specific Test II. Learning the DM representation",
      "provenance": [],
      "collapsed_sections": [],
      "authorship_tag": "ABX9TyN3JASv6uxSJvHWCHnTS4Wq",
      "include_colab_link": true
    },
    "kernelspec": {
      "name": "python3",
      "display_name": "Python 3"
    },
    "language_info": {
      "name": "python"
    },
    "accelerator": "GPU"
  },
  "cells": [
    {
      "cell_type": "markdown",
      "metadata": {
        "id": "view-in-github",
        "colab_type": "text"
      },
      "source": [
        "<a href=\"https://colab.research.google.com/github/Claussss/GSoC_evaluation_tests/blob/main/Specific_Test_II_Learning_the_DM_representation.ipynb\" target=\"_parent\"><img src=\"https://colab.research.google.com/assets/colab-badge.svg\" alt=\"Open In Colab\"/></a>"
      ]
    },
    {
      "cell_type": "markdown",
      "metadata": {
        "id": "lY5nQdnrbcwl"
      },
      "source": [
        "# Specific Test II. Learning the DM representation \n",
        "\n",
        "## Unsupervised Anomaly Detection and Transfer Learning"
      ]
    },
    {
      "cell_type": "markdown",
      "metadata": {
        "id": "maU0J-QqDI-h"
      },
      "source": [
        "For this task I decided to use the properties of Autoencoder to solve the anomaly detection problem. This method is based on the following paper:\n",
        "\n",
        "**[Anomaly Detection with Adversarial Dual Autoencoders](https://arxiv.org/ftp/arxiv/papers/1902/1902.06924.pdf)**\n",
        "\n",
        "I loaded the provided Adversarial Encoder model and finetuned (trained only on no_sub images).\n",
        "\n",
        "To classify whether an image is an anomaly, I run the trained Autoencoder and calculate MSE loss between the reconstructed image and the original one. If the loss is higher than the threshold, which is chosen after observing the distribution of the test set, the image is classified as an anomaly.\n",
        "\n",
        "While training on no_sub images, the model generates a normal distribution for no_sum images, and when we try to reconstruct sub images, it will be out of the distribution; consequently, the reconstruction loss will be high."
      ]
    },
    {
      "cell_type": "code",
      "metadata": {
        "id": "_fRtU6qilnl9"
      },
      "source": [
        "import torch.nn as nn\n",
        "from torch.nn import functional as F\n",
        "import torch\n",
        "import torchvision\n",
        "from torchvision import transforms\n",
        "from torch.optim.lr_scheduler import ReduceLROnPlateau\n",
        "\n",
        "from sklearn.metrics import auc\n",
        "from sklearn.metrics import roc_curve\n",
        "from sklearn.metrics import confusion_matrix\n",
        "\n",
        "import numpy as np\n",
        "import matplotlib.pyplot as plt\n",
        "import seaborn as sns"
      ],
      "execution_count": null,
      "outputs": []
    },
    {
      "cell_type": "markdown",
      "metadata": {
        "id": "SH_4SoRtpsW2"
      },
      "source": [
        "### Cloning DeepLens Repo"
      ]
    },
    {
      "cell_type": "code",
      "metadata": {
        "id": "pYGvslVopw1_"
      },
      "source": [
        "%%capture\n",
        "!git clone https://github.com/ML4SCI/ML4SCI_GSoC.git"
      ],
      "execution_count": null,
      "outputs": []
    },
    {
      "cell_type": "code",
      "metadata": {
        "id": "M5I0-KxGsCqf"
      },
      "source": [
        "%%capture\n",
        "# Unzip all the lens images into root directory\n",
        "!tar -xvf '/content/ML4SCI_GSoC/DeepLense/Domain Adaptation/lenses.tgz'"
      ],
      "execution_count": null,
      "outputs": []
    },
    {
      "cell_type": "markdown",
      "metadata": {
        "id": "jt-WdZr5l9Ma"
      },
      "source": [
        "### Adversarial Autoencoder Model Architecture"
      ]
    },
    {
      "cell_type": "code",
      "metadata": {
        "id": "PV5q5P-BmDMU"
      },
      "source": [
        "class Encoder(nn.Module):\n",
        "\n",
        "    def __init__(self):\n",
        "        super().__init__()\n",
        "\n",
        "        self.conv1 = nn.Conv2d(1, 16, 7, stride=3, padding=1)\n",
        "        self.conv2 = nn.Conv2d(16, 32, 7, stride=3, padding=1)\n",
        "        self.conv3 = nn.Conv2d(32, 64, 7)\n",
        "        self.flat = nn.Flatten()\n",
        "        self.linear = nn.Linear(5184, 1000)\n",
        "\n",
        "    def forward(self, x):\n",
        "\n",
        "        convolution1 = F.relu(self.conv1(x))\n",
        "        convolution2 = F.relu(self.conv2(convolution1))\n",
        "        convolution3 = F.relu(self.conv3(convolution2))\n",
        "        Flattened = self.flat(convolution3)\n",
        "        z = self.linear(Flattened)\n",
        "\n",
        "        return z\n",
        "\n",
        "class Decoder(nn.Module):\n",
        "\n",
        "    def __init__(self):\n",
        "        super().__init__()\n",
        "\n",
        "        self.linear = nn.Linear(1000, 5184)\n",
        "        self.conv4 = nn.ConvTranspose2d(64, 32, 7)\n",
        "        self.conv5 = nn.ConvTranspose2d(32, 16, 7, stride=3, padding=1, output_padding=2)\n",
        "        self.conv6 = nn.ConvTranspose2d(16, 1, 6, stride=3, padding=1, output_padding=2)\n",
        "\n",
        "    def forward(self, x):\n",
        "\n",
        "        hidden = self.linear(x)\n",
        "        Reshaped = hidden.reshape(-1,64,9,9)\n",
        "        convolution4 = F.relu(self.conv4(Reshaped))\n",
        "        convolution5 = F.relu(self.conv5(convolution4))\n",
        "        predicted = torch.tanh(self.conv6(convolution5))\n",
        "\n",
        "        return predicted\n",
        "\n",
        "class Discriminator(nn.Module):\n",
        "\n",
        "    def __init__(self, dim_z=1000 , dim_h=256):\n",
        "        super(Discriminator,self).__init__()\n",
        "        self.dim_z = dim_z\n",
        "        self.dim_h = dim_h\n",
        "        self.network = []\n",
        "        self.network.extend([\n",
        "            nn.Linear(self.dim_z, self.dim_h),\n",
        "            nn.ReLU(),\n",
        "            nn.Linear(self.dim_h, self.dim_h),\n",
        "            nn.ReLU(),\n",
        "            nn.Linear(self.dim_h,1),\n",
        "            nn.Sigmoid(),\n",
        "        ])\n",
        "        self.network = nn.Sequential(*self.network)\n",
        "\n",
        "    def forward(self, z):\n",
        "        disc = self.network(z)\n",
        "        return disc"
      ],
      "execution_count": null,
      "outputs": []
    },
    {
      "cell_type": "code",
      "metadata": {
        "id": "NhTS8yQ-dge-"
      },
      "source": [
        "class AdversialAutoencoder():\n",
        "  \"\"\"\n",
        "  The class represents an Adversial Autoencoder for anomaly detection.\n",
        "  \"\"\"\n",
        "  \n",
        "\n",
        "  def __init__(self):\n",
        "    self.cuda = torch.cuda.is_available()\n",
        "\n",
        "    if self.cuda:\n",
        "      # Initialize the model\n",
        "      self.encoder = Encoder().cuda()\n",
        "      self.decoder = Decoder().cuda()\n",
        "      self.discriminator = Discriminator().cuda()\n",
        "    else:\n",
        "      self.encoder = Encoder()\n",
        "      self.decoder = Decoder()\n",
        "      self.discriminator = Discriminator()\n",
        "\n",
        "    # Lists of epoch erorrs\n",
        "    self.recon_loss_list = []\n",
        "    self.discriminator_loss_list = []\n",
        "    self.generator_loss_list = []\n",
        "\n",
        "  def get_losses(self):\n",
        "    \"\"\"\n",
        "    Returns a dictionary with loss name and its values\n",
        "    \"\"\"\n",
        "    return {\n",
        "        'Reconstruction Loss': self.recon_loss_list,\n",
        "        'Discriminator Loss' : self.discriminator_loss_list,\n",
        "        'Generator Loss' : self.generator_loss_list\n",
        "    }\n",
        "  \n",
        "  def save_model(self,path_dict):\n",
        "    \"\"\"\n",
        "    Saves encoder,decoder, and discriminator to the pathes specified in path_dict.\n",
        "    path_dict = {\n",
        "      'encoder': path_to_encoder_file,\n",
        "      'decoder': path_to_decoder_file,\n",
        "      'discriminator': path_to_discriminator_file}\n",
        "    \"\"\"\n",
        "    torch.save(self.encoder,path_dict['encoder'])\n",
        "    torch.save(self.decoder,path_dict['decoder'])\n",
        "    torch.save(self.discriminator,path_dict['discriminator'])\n",
        "        \n",
        "\n",
        "  def load_model(self,path_dict):\n",
        "    \"\"\"\n",
        "    Loads encoder,decoder,and discriminator from the files specified in path_dict.\n",
        "      path_dict = {\n",
        "      'encoder': path_to_encoder_file,\n",
        "      'decoder': path_to_decoder_file,\n",
        "      'discriminator': path_to_discriminator_file}\n",
        "    \"\"\"\n",
        "    self.encoder = torch.load(path_dict['encoder'])\n",
        "    self.decoder = torch.load(path_dict['decoder'])\n",
        "    self.discriminator = torch.load(path_dict['discriminator'])\n",
        "\n",
        "  def calculate_discriminator_loss(self,D_real_gauss,D_fake_gauss, TINY):\n",
        "    \"\"\"\n",
        "       Calculates discriminator loss.\n",
        "       D_real_gauss - a value from normal disribution.\n",
        "       D_fake_gauss - a value from a distribution that tries to imitate normal.\n",
        "       TINY - a small value that prevents the loss from reaching 0.\n",
        "    \"\"\"\n",
        "    return -torch.mean(torch.log(D_real_gauss + TINY) + torch.log(1 - D_fake_gauss + TINY))\n",
        "\n",
        "  def calculate_generator_loss(self,D_fake_gauss, TINY):\n",
        "    \"\"\"\n",
        "       Calculates generator loss.\n",
        "       D_fake_gauss - a value from a distribution that tries to imitate normal.\n",
        "       TINY - a small value that prevents the loss from reaching 0.\n",
        "    \"\"\"\n",
        "    return -torch.mean(torch.log(D_fake_gauss + TINY))\n",
        "\n",
        "  def calculate_reconstruction_loss(self,reconstructed_X,X):\n",
        "    \"\"\"\n",
        "    Calculates reconstruction loss.\n",
        "    Reconstructed_X - X which were encoded and decoded back.\n",
        "    X  - initial X value.\n",
        "    \"\"\"\n",
        "    mse = nn.MSELoss()\n",
        "    return mse(reconstructed_X,X)\n",
        "\n",
        "  def reconstruct(self, x):\n",
        "    \"\"\"\n",
        "    Converts an image into the latent space and reconstructs it back.\n",
        "    \"\"\"\n",
        "\n",
        "    if self.cuda:\n",
        "      X = x.data.cuda()\n",
        "\n",
        "    encoded_x = self.encode(X)\n",
        "    reconstructed_x = self.decode(encoded_x)\n",
        "    return reconstructed_x\n",
        "\n",
        "  def encode(self,x):\n",
        "    \"\"\"\n",
        "    Converts an image into the learnt latent space.\n",
        "    \"\"\"\n",
        "    self.encoder.eval()\n",
        "\n",
        "    if self.cuda:\n",
        "      X = x.data.cuda()\n",
        "    return self.encoder(X)\n",
        "\n",
        "  def decode(self,x):\n",
        "    \"\"\"\n",
        "    Decodes an image from the learnt latent space.\n",
        "    \"\"\"\n",
        "    self.decoder.eval()\n",
        "    \n",
        "    if self.cuda:\n",
        "      X = x.data.cuda()\n",
        "    return self.decoder(X)\n",
        "\n",
        "\n",
        "  def train(self,train_loader,verbose,**kwargs):\n",
        "    \"\"\"\n",
        "    Trains the model.\n",
        "    If verbose is True, prints stats for every epoch.\n",
        "    \"\"\"\n",
        "\n",
        "    # Initialize optimizators\n",
        "    self.decoder_optim = torch.optim.Adam(self.decoder.parameters(), lr=reg_lr,)\n",
        "    self.encoder_optim = torch.optim.Adam(self.encoder.parameters(), lr=reg_lr)\n",
        "    self.discriminator_optim  = torch.optim.Adam(self.discriminator.parameters(), lr=reg_lr)\n",
        "    self.generator_optim = torch.optim.Adam(self.encoder.parameters(), lr=gen_lr)\n",
        "\n",
        "\n",
        "    \n",
        "    for epoch in range(epochs):\n",
        "      # Initialize running losses\n",
        "      running_recon_loss = 0\n",
        "      running_discriminator_loss = 0\n",
        "      running_generator_loss = 0\n",
        "\n",
        "      for X,_ in train_loader:\n",
        "          if self.cuda:\n",
        "            X = X.data.cuda()\n",
        "          # Zero the gradients\n",
        "          self.decoder_optim.zero_grad() \n",
        "          self.encoder_optim.zero_grad()\n",
        "          self.generator_optim.zero_grad()\n",
        "          self.discriminator_optim.zero_grad()\n",
        "\n",
        "          self.decoder_scheduler = ReduceLROnPlateau(self.decoder_optim, 'min',patience=5)\n",
        "          self.encoder_scheduler = ReduceLROnPlateau(self.encoder_optim, 'min',patience=5)\n",
        "          self.generator_scheduler = ReduceLROnPlateau(self.generator_optim, 'min',patience=5)\n",
        "          self.discriminator_scheduler = ReduceLROnPlateau(self.discriminator_optim, 'max',patience=5)\n",
        "\n",
        "          \n",
        "          # Turn on the train mode\n",
        "          self.encoder.train()\n",
        "          self.decoder.train()\n",
        "          self.discriminator.train()\n",
        "\n",
        "          # Reconstruction phase\n",
        "          z_sample = self.encoder(X)\n",
        "          X_sample = self.decoder(z_sample)\n",
        "          recon_loss = self.calculate_reconstruction_loss(X_sample,X)\n",
        "          running_recon_loss += recon_loss\n",
        "\n",
        "          recon_loss.backward()\n",
        "          self.decoder_optim.step()\n",
        "          self.encoder_optim.step()\n",
        "\n",
        "          # Regularization phase\n",
        "          self.encoder.eval() \n",
        "          # Generating a value from Gaussian distribution with mean 0 and variance 1 \n",
        "          z_real_gauss = torch.autograd.Variable(torch.randn(train_loader.batch_size, 1000))\n",
        "          z_real_gauss = z_real_gauss.cuda() if self.cuda else z_real_gauss\n",
        "          z_fake_gauss = self.encoder(X)\n",
        "\n",
        "          # Compute discriminator outputs and loss\n",
        "          D_real_gauss, D_fake_gauss = self.discriminator(z_real_gauss), self.discriminator(z_fake_gauss)\n",
        "          D_loss_gauss = self.calculate_discriminator_loss(D_real_gauss, D_fake_gauss,TINY)\n",
        "          running_discriminator_loss += D_loss_gauss\n",
        "\n",
        "          D_loss_gauss.backward()    \n",
        "          self.discriminator_optim.step() \n",
        "         \n",
        "\n",
        "          # Generator\n",
        "          self.encoder.train()\n",
        "          z_fake_gauss = self.encoder(X)\n",
        "          D_fake_gauss = self.discriminator(z_fake_gauss)\n",
        "\n",
        "          G_loss = self.calculate_generator_loss(D_fake_gauss,TINY)\n",
        "          running_generator_loss += G_loss\n",
        "\n",
        "          G_loss.backward()\n",
        "          self.generator_optim.step()\n",
        "         \n",
        "      # Updating the shedulers\n",
        "      self.encoder_scheduler.step(running_recon_loss)\n",
        "      self.decoder_scheduler.step(running_recon_loss)\n",
        "      self.discriminator_scheduler.step(running_discriminator_loss)\n",
        "      self.generator_scheduler.step(running_generator_loss)\n",
        "\n",
        "\n",
        "      epoch_recon_loss =  running_recon_loss/len(train_loader.dataset)\n",
        "      epoch_discriminator_loss =  running_discriminator_loss/len(train_loader.dataset)\n",
        "      epoch_generator_loss =  running_generator_loss/len(train_loader.dataset)\n",
        "\n",
        "      self.recon_loss_list.append(epoch_recon_loss)\n",
        "      self.discriminator_loss_list.append(epoch_discriminator_loss)\n",
        "      self.generator_loss_list.append(epoch_generator_loss)\n",
        "\n",
        "      if verbose:\n",
        "        print(f\"====== Epoch {epoch+1} ======\")\n",
        "        print(f'Reconstruction loss: {epoch_recon_loss}')\n",
        "        print(f'Discriminator loss: {epoch_discriminator_loss}')\n",
        "        print(f'Generator loss: {epoch_generator_loss}')\n",
        "        print(\"==============================\")\n"
      ],
      "execution_count": null,
      "outputs": []
    },
    {
      "cell_type": "markdown",
      "metadata": {
        "id": "WlHWhcpTuH99"
      },
      "source": [
        "### Generating Datasets"
      ]
    },
    {
      "cell_type": "code",
      "metadata": {
        "id": "bFQ5JvlHu8fu"
      },
      "source": [
        "# Image size has to correspond to the first layer of the encoder\n",
        "trsf = transforms.Compose([transforms.ToTensor(),\n",
        "                           transforms.Resize((150, 150)),\n",
        "                           transforms.Grayscale(num_output_channels=1)])"
      ],
      "execution_count": null,
      "outputs": []
    },
    {
      "cell_type": "code",
      "metadata": {
        "id": "buSLdUweuJhL",
        "colab": {
          "base_uri": "https://localhost:8080/"
        },
        "outputId": "0c58c417-809e-4315-cd4a-a99825cdba07"
      },
      "source": [
        "lens_dataset = torchvision.datasets.ImageFolder(root='lenses',transform=trsf)\n",
        "lens_dataset.class_to_idx"
      ],
      "execution_count": null,
      "outputs": [
        {
          "output_type": "execute_result",
          "data": {
            "text/plain": [
              "{'no_sub': 0, 'sub': 1}"
            ]
          },
          "metadata": {
            "tags": []
          },
          "execution_count": 7
        }
      ]
    },
    {
      "cell_type": "markdown",
      "metadata": {
        "id": "fQ4IxDpyFYGw"
      },
      "source": [
        "No_sub images are the norm.\n",
        "\n",
        "Sub images are regarded as anomalies."
      ]
    },
    {
      "cell_type": "markdown",
      "metadata": {
        "id": "UKrPEToPdp0y"
      },
      "source": [
        "#### Splitting the dataset into training and testing"
      ]
    },
    {
      "cell_type": "code",
      "metadata": {
        "colab": {
          "base_uri": "https://localhost:8080/"
        },
        "id": "-o37r07XwZTH",
        "outputId": "3993b3a7-edcd-47d1-d3c8-1ea298cd0c7d"
      },
      "source": [
        "# 20% of the data will be used for testing\n",
        "test_split = 0.2\n",
        "num_of_images = len(lens_dataset)\n",
        "n_train = int(num_of_images*(1-test_split))\n",
        "n_test = int(num_of_images*test_split)\n",
        "print(f'Number of images in train dataset: {n_train}')\n",
        "print(f'Number of images in test dataset: {n_test}')"
      ],
      "execution_count": null,
      "outputs": [
        {
          "output_type": "stream",
          "text": [
            "Number of images in train dataset: 8000\n",
            "Number of images in test dataset: 2000\n"
          ],
          "name": "stdout"
        }
      ]
    },
    {
      "cell_type": "code",
      "metadata": {
        "id": "t0ps737mueLU"
      },
      "source": [
        "train_dataset, test_dataset = torch.utils.data.random_split(lens_dataset,[n_train,n_test])"
      ],
      "execution_count": null,
      "outputs": []
    },
    {
      "cell_type": "code",
      "metadata": {
        "colab": {
          "base_uri": "https://localhost:8080/"
        },
        "id": "UPNphYRLGdKs",
        "outputId": "57440cb3-94a3-43ab-c193-a392dffb9760"
      },
      "source": [
        "no_sub_counter = 0\n",
        "sub_counter = 0\n",
        "for _,label in test_dataset:\n",
        "  if label==0:\n",
        "    no_sub_counter+=1\n",
        "  else:\n",
        "    sub_counter+=1\n",
        "print(\"Class Distribution in the test dataset\")\n",
        "print(f\"Number of No_Sub images: {no_sub_counter} (class 0)\")\n",
        "print(f\"Number of Sub images: {sub_counter} (class 1)\")"
      ],
      "execution_count": null,
      "outputs": [
        {
          "output_type": "stream",
          "text": [
            "Class Distribution in the test dataset\n",
            "Number of No_Sub images: 1012 (class 0)\n",
            "Number of Sub images: 988 (class 1)\n"
          ],
          "name": "stdout"
        }
      ]
    },
    {
      "cell_type": "markdown",
      "metadata": {
        "id": "2QH6VTJAF4Wi"
      },
      "source": [
        "Currently both train_dataset and test_dataset contain 2 classes (sub and no_sub).\n",
        "\n",
        "For test we need both classes to evaluate the performance of the model, but we need only no_sub images for training."
      ]
    },
    {
      "cell_type": "code",
      "metadata": {
        "id": "a1uLZLCqwMmS"
      },
      "source": [
        "# Removing sub class from training dataset\n",
        "indx_of_indx_list = []\n",
        "for i,(image,label) in enumerate(train_dataset):\n",
        "  if(label==0):\n",
        "    indx_of_indx_list.append(i)\n",
        "\n",
        "no_sub_train_indx = np.array(train_dataset.indices)[indx_of_indx_list]\n",
        "train_dataset_no_sub = torch.utils.data.Subset(lens_dataset,no_sub_train_indx)"
      ],
      "execution_count": null,
      "outputs": []
    },
    {
      "cell_type": "code",
      "metadata": {
        "id": "YXlu7PswtpLG"
      },
      "source": [
        "def get_data_loader(dataset,shuffle,batch_size):\n",
        "  \"\"\"\n",
        "  Returns a pytorch dataloader created from the provided parameters.\n",
        "  \"\"\"\n",
        "  loader = torch.utils.data.DataLoader(\n",
        "            dataset,\n",
        "            batch_size=batch_size,\n",
        "            shuffle=shuffle,\n",
        "            drop_last = True\n",
        "        )\n",
        "  return loader"
      ],
      "execution_count": null,
      "outputs": []
    },
    {
      "cell_type": "markdown",
      "metadata": {
        "id": "yQ35PuCl4bij"
      },
      "source": [
        "### Initialazing and training the model"
      ]
    },
    {
      "cell_type": "code",
      "metadata": {
        "id": "Wx4Xa5WLQWH-"
      },
      "source": [
        "advers_encoder = AdversialAutoencoder()"
      ],
      "execution_count": null,
      "outputs": []
    },
    {
      "cell_type": "markdown",
      "metadata": {
        "id": "ZrkOjNDoIGjg"
      },
      "source": [
        "The hyperparameters were chosen manually."
      ]
    },
    {
      "cell_type": "code",
      "metadata": {
        "id": "4bxiPo-0Qh-I"
      },
      "source": [
        "# Learning rates\n",
        "reg_lr,gen_lr = 1e-4, 1e-5\n",
        "epochs = 60\n",
        "# Small number that prohibits the discriminator and generator loss from being 0\n",
        "TINY = 1e-12"
      ],
      "execution_count": null,
      "outputs": []
    },
    {
      "cell_type": "markdown",
      "metadata": {
        "id": "9Je60ZX5Syqc"
      },
      "source": [
        "#### Load trained weights"
      ]
    },
    {
      "cell_type": "code",
      "metadata": {
        "id": "fnAD55qCTCzL"
      },
      "source": [
        "weights_path_dict = {\n",
        "    'encoder':'/content/ML4SCI_GSoC/DeepLense/Domain Adaptation/Model_Weights/AAE_Encoder.pth',\n",
        "    'decoder':'/content/ML4SCI_GSoC/DeepLense/Domain Adaptation/Model_Weights/AAE_Decoder.pth',\n",
        "    'discriminator':'/content/ML4SCI_GSoC/DeepLense/Domain Adaptation/Model_Weights/AAE_Discriminator.pth'\n",
        "}"
      ],
      "execution_count": null,
      "outputs": []
    },
    {
      "cell_type": "code",
      "metadata": {
        "id": "Cl6CZmyVTUSu"
      },
      "source": [
        "%%capture\n",
        "advers_encoder.load_model(weights_path_dict)"
      ],
      "execution_count": null,
      "outputs": []
    },
    {
      "cell_type": "markdown",
      "metadata": {
        "id": "RlYojIvaIaCu"
      },
      "source": [
        "#### Train the model"
      ]
    },
    {
      "cell_type": "code",
      "metadata": {
        "colab": {
          "base_uri": "https://localhost:8080/"
        },
        "id": "owvUsMX8Tid-",
        "outputId": "cb90f4b6-25bc-4580-b459-e6e882e7d53b"
      },
      "source": [
        "advers_encoder.train(train_loader=get_data_loader(train_dataset_no_sub,True,32),verbose=True,\n",
        "                     gen_lr=gen_lr,reg_lr=reg_lr,\n",
        "                     epochs=epochs,TINY=TINY)"
      ],
      "execution_count": null,
      "outputs": [
        {
          "output_type": "stream",
          "text": [
            "====== Epoch 1 ======\n",
            "Reconstruction loss: 3.220149301341735e-05\n",
            "Discriminator loss: 0.0013721988070756197\n",
            "Generator loss: 0.7568175196647644\n",
            "==============================\n",
            "====== Epoch 2 ======\n",
            "Reconstruction loss: 4.888579042017227e-06\n",
            "Discriminator loss: 0.0015260122017934918\n",
            "Generator loss: 0.6351361274719238\n",
            "==============================\n",
            "====== Epoch 3 ======\n",
            "Reconstruction loss: 2.4097755613183836e-06\n",
            "Discriminator loss: 0.0021369573660194874\n",
            "Generator loss: 0.6768459677696228\n",
            "==============================\n",
            "====== Epoch 4 ======\n",
            "Reconstruction loss: 1.7332105244349805e-06\n",
            "Discriminator loss: 0.0031342615839093924\n",
            "Generator loss: 0.7082040905952454\n",
            "==============================\n",
            "====== Epoch 5 ======\n",
            "Reconstruction loss: 1.436098159501853e-06\n",
            "Discriminator loss: 0.002156702568754554\n",
            "Generator loss: 0.7003207802772522\n",
            "==============================\n",
            "====== Epoch 6 ======\n",
            "Reconstruction loss: 1.2600251011463115e-06\n",
            "Discriminator loss: 0.0020070557948201895\n",
            "Generator loss: 0.653377115726471\n",
            "==============================\n",
            "====== Epoch 7 ======\n",
            "Reconstruction loss: 1.1574001064218464e-06\n",
            "Discriminator loss: 0.0012676742626354098\n",
            "Generator loss: 0.5973259806632996\n",
            "==============================\n",
            "====== Epoch 8 ======\n",
            "Reconstruction loss: 1.0933891871900414e-06\n",
            "Discriminator loss: 0.0017901668325066566\n",
            "Generator loss: 0.49679261445999146\n",
            "==============================\n",
            "====== Epoch 9 ======\n",
            "Reconstruction loss: 1.025098185891693e-06\n",
            "Discriminator loss: 0.000895500008482486\n",
            "Generator loss: 0.46133509278297424\n",
            "==============================\n",
            "====== Epoch 10 ======\n",
            "Reconstruction loss: 9.644836609368213e-07\n",
            "Discriminator loss: 0.0013259489787742496\n",
            "Generator loss: 0.391366183757782\n",
            "==============================\n",
            "====== Epoch 11 ======\n",
            "Reconstruction loss: 9.159000455838395e-07\n",
            "Discriminator loss: 0.0004895167658105493\n",
            "Generator loss: 0.3673613667488098\n",
            "==============================\n",
            "====== Epoch 12 ======\n",
            "Reconstruction loss: 8.761635967857728e-07\n",
            "Discriminator loss: 0.0005576343974098563\n",
            "Generator loss: 0.3727430999279022\n",
            "==============================\n",
            "====== Epoch 13 ======\n",
            "Reconstruction loss: 8.408975418205955e-07\n",
            "Discriminator loss: 0.0005124473245814443\n",
            "Generator loss: 0.3663896918296814\n",
            "==============================\n",
            "====== Epoch 14 ======\n",
            "Reconstruction loss: 8.216898663704342e-07\n",
            "Discriminator loss: 0.0007011338020674884\n",
            "Generator loss: 0.3735934793949127\n",
            "==============================\n",
            "====== Epoch 15 ======\n",
            "Reconstruction loss: 8.061613812060386e-07\n",
            "Discriminator loss: 0.00022822333266958594\n",
            "Generator loss: 0.3712390959262848\n",
            "==============================\n",
            "====== Epoch 16 ======\n",
            "Reconstruction loss: 7.893792712820868e-07\n",
            "Discriminator loss: 0.0004487865953706205\n",
            "Generator loss: 0.3882559835910797\n",
            "==============================\n",
            "====== Epoch 17 ======\n",
            "Reconstruction loss: 7.66305674915202e-07\n",
            "Discriminator loss: 0.0006136465235613286\n",
            "Generator loss: 0.4239511489868164\n",
            "==============================\n",
            "====== Epoch 18 ======\n",
            "Reconstruction loss: 7.565217288174608e-07\n",
            "Discriminator loss: 0.00044595255167223513\n",
            "Generator loss: 0.4782354533672333\n",
            "==============================\n",
            "====== Epoch 19 ======\n",
            "Reconstruction loss: 7.505922781092522e-07\n",
            "Discriminator loss: 0.000731943582650274\n",
            "Generator loss: 0.5172105431556702\n",
            "==============================\n",
            "====== Epoch 20 ======\n",
            "Reconstruction loss: 7.359445817201049e-07\n",
            "Discriminator loss: 0.0005932571948505938\n",
            "Generator loss: 0.44542407989501953\n",
            "==============================\n",
            "====== Epoch 21 ======\n",
            "Reconstruction loss: 7.159720780691714e-07\n",
            "Discriminator loss: 0.0004852430138271302\n",
            "Generator loss: 0.38334396481513977\n",
            "==============================\n",
            "====== Epoch 22 ======\n",
            "Reconstruction loss: 7.072010816955299e-07\n",
            "Discriminator loss: 0.0004698174598161131\n",
            "Generator loss: 0.34006741642951965\n",
            "==============================\n",
            "====== Epoch 23 ======\n",
            "Reconstruction loss: 6.844500717306801e-07\n",
            "Discriminator loss: 0.0004446149687282741\n",
            "Generator loss: 0.3200259208679199\n",
            "==============================\n",
            "====== Epoch 24 ======\n",
            "Reconstruction loss: 6.795003173465375e-07\n",
            "Discriminator loss: 0.00031160787330009043\n",
            "Generator loss: 0.31473612785339355\n",
            "==============================\n",
            "====== Epoch 25 ======\n",
            "Reconstruction loss: 6.767421609765734e-07\n",
            "Discriminator loss: 0.0005772765725851059\n",
            "Generator loss: 0.327059268951416\n",
            "==============================\n",
            "====== Epoch 26 ======\n",
            "Reconstruction loss: 6.540957997458463e-07\n",
            "Discriminator loss: 0.00019302894361317158\n",
            "Generator loss: 0.371410995721817\n",
            "==============================\n",
            "====== Epoch 27 ======\n",
            "Reconstruction loss: 6.421292937375256e-07\n",
            "Discriminator loss: 0.00031652735196985304\n",
            "Generator loss: 0.418327659368515\n",
            "==============================\n",
            "====== Epoch 28 ======\n",
            "Reconstruction loss: 6.308572437774274e-07\n",
            "Discriminator loss: 0.0008071486372500658\n",
            "Generator loss: 0.47024163603782654\n",
            "==============================\n",
            "====== Epoch 29 ======\n",
            "Reconstruction loss: 6.343672112052445e-07\n",
            "Discriminator loss: 0.0006142626516520977\n",
            "Generator loss: 0.434895396232605\n",
            "==============================\n",
            "====== Epoch 30 ======\n",
            "Reconstruction loss: 6.12211920270056e-07\n",
            "Discriminator loss: 0.0006835502572357655\n",
            "Generator loss: 0.41800644993782043\n",
            "==============================\n",
            "====== Epoch 31 ======\n",
            "Reconstruction loss: 6.085514883125143e-07\n",
            "Discriminator loss: 0.0004886448732577264\n",
            "Generator loss: 0.35521647334098816\n",
            "==============================\n",
            "====== Epoch 32 ======\n",
            "Reconstruction loss: 6.126682023932517e-07\n",
            "Discriminator loss: 0.00035432781442068517\n",
            "Generator loss: 0.3711662292480469\n",
            "==============================\n",
            "====== Epoch 33 ======\n",
            "Reconstruction loss: 5.962869522591063e-07\n",
            "Discriminator loss: 0.00040195585461333394\n",
            "Generator loss: 0.3359532356262207\n",
            "==============================\n",
            "====== Epoch 34 ======\n",
            "Reconstruction loss: 5.896347943235014e-07\n",
            "Discriminator loss: 0.0003805129963438958\n",
            "Generator loss: 0.3426516652107239\n",
            "==============================\n",
            "====== Epoch 35 ======\n",
            "Reconstruction loss: 5.893758157071716e-07\n",
            "Discriminator loss: 0.0004582342808134854\n",
            "Generator loss: 0.36998292803764343\n",
            "==============================\n",
            "====== Epoch 36 ======\n",
            "Reconstruction loss: 5.917411272093887e-07\n",
            "Discriminator loss: 0.0005887863226234913\n",
            "Generator loss: 0.43401122093200684\n",
            "==============================\n",
            "====== Epoch 37 ======\n",
            "Reconstruction loss: 5.767719244431646e-07\n",
            "Discriminator loss: 0.0005990374484099448\n",
            "Generator loss: 0.45072808861732483\n",
            "==============================\n",
            "====== Epoch 38 ======\n",
            "Reconstruction loss: 5.637048730022798e-07\n",
            "Discriminator loss: 0.0007689309422858059\n",
            "Generator loss: 0.4148932099342346\n",
            "==============================\n",
            "====== Epoch 39 ======\n",
            "Reconstruction loss: 5.518425041373121e-07\n",
            "Discriminator loss: 0.000508807017467916\n",
            "Generator loss: 0.41776612401008606\n",
            "==============================\n",
            "====== Epoch 40 ======\n",
            "Reconstruction loss: 5.517516115105536e-07\n",
            "Discriminator loss: 0.0004133141483180225\n",
            "Generator loss: 0.3418537974357605\n",
            "==============================\n",
            "====== Epoch 41 ======\n",
            "Reconstruction loss: 5.332756245479686e-07\n",
            "Discriminator loss: 0.0002460331888869405\n",
            "Generator loss: 0.2899772524833679\n",
            "==============================\n",
            "====== Epoch 42 ======\n",
            "Reconstruction loss: 5.321833214111393e-07\n",
            "Discriminator loss: 0.000402533623855561\n",
            "Generator loss: 0.2588210701942444\n",
            "==============================\n",
            "====== Epoch 43 ======\n",
            "Reconstruction loss: 5.25925031524821e-07\n",
            "Discriminator loss: 0.00031232601031661034\n",
            "Generator loss: 0.25524088740348816\n",
            "==============================\n",
            "====== Epoch 44 ======\n",
            "Reconstruction loss: 5.170398935661069e-07\n",
            "Discriminator loss: 0.00025751121575012803\n",
            "Generator loss: 0.26082006096839905\n",
            "==============================\n",
            "====== Epoch 45 ======\n",
            "Reconstruction loss: 5.178513333703449e-07\n",
            "Discriminator loss: 0.00034131298889406025\n",
            "Generator loss: 0.2598496675491333\n",
            "==============================\n",
            "====== Epoch 46 ======\n",
            "Reconstruction loss: 5.109564540362044e-07\n",
            "Discriminator loss: 0.0002728730032686144\n",
            "Generator loss: 0.26176056265830994\n",
            "==============================\n",
            "====== Epoch 47 ======\n",
            "Reconstruction loss: 5.047135118729784e-07\n",
            "Discriminator loss: 0.0004500139912124723\n",
            "Generator loss: 0.27088648080825806\n",
            "==============================\n",
            "====== Epoch 48 ======\n",
            "Reconstruction loss: 5.007777303944749e-07\n",
            "Discriminator loss: 0.00043148320401087403\n",
            "Generator loss: 0.3098404109477997\n",
            "==============================\n",
            "====== Epoch 49 ======\n",
            "Reconstruction loss: 4.984798351870268e-07\n",
            "Discriminator loss: 0.000586403941269964\n",
            "Generator loss: 0.3080548644065857\n",
            "==============================\n",
            "====== Epoch 50 ======\n",
            "Reconstruction loss: 4.992836579731375e-07\n",
            "Discriminator loss: 0.0005610493826679885\n",
            "Generator loss: 0.31912243366241455\n",
            "==============================\n",
            "====== Epoch 51 ======\n",
            "Reconstruction loss: 4.954951009494835e-07\n",
            "Discriminator loss: 0.0007756876293569803\n",
            "Generator loss: 0.2987325191497803\n",
            "==============================\n",
            "====== Epoch 52 ======\n",
            "Reconstruction loss: 4.872063072980382e-07\n",
            "Discriminator loss: 0.000574663165025413\n",
            "Generator loss: 0.2869400084018707\n",
            "==============================\n",
            "====== Epoch 53 ======\n",
            "Reconstruction loss: 4.819149239665421e-07\n",
            "Discriminator loss: 0.00047434770385734737\n",
            "Generator loss: 0.27310189604759216\n",
            "==============================\n",
            "====== Epoch 54 ======\n",
            "Reconstruction loss: 4.7618706844332337e-07\n",
            "Discriminator loss: 0.000634922063909471\n",
            "Generator loss: 0.2673744857311249\n",
            "==============================\n",
            "====== Epoch 55 ======\n",
            "Reconstruction loss: 4.764754919506231e-07\n",
            "Discriminator loss: 0.0006459569558501244\n",
            "Generator loss: 0.25170469284057617\n",
            "==============================\n",
            "====== Epoch 56 ======\n",
            "Reconstruction loss: 4.799418320544646e-07\n",
            "Discriminator loss: 0.0005070804036222398\n",
            "Generator loss: 0.2570013105869293\n",
            "==============================\n",
            "====== Epoch 57 ======\n",
            "Reconstruction loss: 4.7556650883961993e-07\n",
            "Discriminator loss: 0.0005660605384036899\n",
            "Generator loss: 0.26767784357070923\n",
            "==============================\n",
            "====== Epoch 58 ======\n",
            "Reconstruction loss: 4.730483169623767e-07\n",
            "Discriminator loss: 0.00046954964636825025\n",
            "Generator loss: 0.27474966645240784\n",
            "==============================\n",
            "====== Epoch 59 ======\n",
            "Reconstruction loss: 4.859464866058261e-07\n",
            "Discriminator loss: 0.000534349528606981\n",
            "Generator loss: 0.265826940536499\n",
            "==============================\n",
            "====== Epoch 60 ======\n",
            "Reconstruction loss: 4.7450143370042497e-07\n",
            "Discriminator loss: 0.0005200990126468241\n",
            "Generator loss: 0.25913795828819275\n",
            "==============================\n"
          ],
          "name": "stdout"
        }
      ]
    },
    {
      "cell_type": "markdown",
      "metadata": {
        "id": "GvLhP8QRIrKD"
      },
      "source": [
        "#### Save finetuned weights"
      ]
    },
    {
      "cell_type": "code",
      "metadata": {
        "id": "uFsmh8Vfz07v"
      },
      "source": [
        "save_weights_path_dict = {\n",
        "    'encoder':'/content/ML4SCI_GSoC/DeepLense/Domain Adaptation/Model_Weights/finetuned_AAE_Encoder.pth',\n",
        "    'decoder':'/content/ML4SCI_GSoC/DeepLense/Domain Adaptation/Model_Weights/finetuned_AAE_Decoder.pth',\n",
        "    'discriminator':'/content/ML4SCI_GSoC/DeepLense/Domain Adaptation/Model_Weights/finetuned_AAE_Discriminator.pth'\n",
        "}"
      ],
      "execution_count": null,
      "outputs": []
    },
    {
      "cell_type": "code",
      "metadata": {
        "id": "HMWmyX1-0DeE"
      },
      "source": [
        "advers_encoder.save_model(save_weights_path_dict)"
      ],
      "execution_count": null,
      "outputs": []
    },
    {
      "cell_type": "markdown",
      "metadata": {
        "id": "wY-Oo5W178Ep"
      },
      "source": [
        "### Plot losses"
      ]
    },
    {
      "cell_type": "code",
      "metadata": {
        "colab": {
          "base_uri": "https://localhost:8080/",
          "height": 730
        },
        "id": "-RWv7cPB7_pY",
        "outputId": "43bef29c-6aed-4510-ec3c-8639e8b8b777"
      },
      "source": [
        "_, ax = plt.subplots(1,3,figsize=(15,12))\n",
        "num_of_epochs = len(advers_encoder.recon_loss_list)\n",
        "epochs_list = range(1,num_of_epochs+1)\n",
        "losses_dict = advers_encoder.get_losses()\n",
        "\n",
        "for i,(loss_title, loss_list) in enumerate(losses_dict.items()):\n",
        "  ax[i].set_title(loss_title)\n",
        "  ax[i].set_xlabel('Epochs')\n",
        "  ax[i].set_ylabel('Loss')\n",
        "  ax[i].plot(epochs_list,loss_list)\n",
        "\n",
        "plt.show()"
      ],
      "execution_count": null,
      "outputs": [
        {
          "output_type": "display_data",
          "data": {
            "image/png": "[encoded data removed]",
            "text/plain": [
              "<Figure size 1080x864 with 3 Axes>"
            ]
          },
          "metadata": {
            "tags": [],
            "needs_background": "light"
          }
        }
      ]
    },
    {
      "cell_type": "markdown",
      "metadata": {
        "id": "JTl1h6CMKKbL"
      },
      "source": [
        "Reconstruction loss has descreased, which is good. And Discriminator loss is insreasing, which shows that discriminator has difficutly differentiating real and fake images."
      ]
    },
    {
      "cell_type": "markdown",
      "metadata": {
        "id": "Qq9bKd8WuhMI"
      },
      "source": [
        "### Finding Reconstruction Threshold"
      ]
    },
    {
      "cell_type": "markdown",
      "metadata": {
        "id": "TPJQnlvAK0k5"
      },
      "source": [
        "To find a reconstruction threshold, I run trained Autoencoder on the test dataset and save all the reconstruction losses.\n",
        "\n",
        "After that I plot the losses and choose an appropriate threshold basing on the graph."
      ]
    },
    {
      "cell_type": "code",
      "metadata": {
        "id": "lYTqCaJJ_fgy"
      },
      "source": [
        "loss_dist = []\n",
        "# We predict loss for every element, so batch_size has to equal 1\n",
        "for X,_ in get_data_loader(test_dataset,False,1):\n",
        "  if advers_encoder.cuda:\n",
        "    X = X.cuda()\n",
        "  X_sample = advers_encoder.reconstruct(X)\n",
        "  recon_loss = advers_encoder.calculate_reconstruction_loss(X_sample,X)\n",
        "\n",
        "  loss_dist.append(recon_loss.item())"
      ],
      "execution_count": null,
      "outputs": []
    },
    {
      "cell_type": "code",
      "metadata": {
        "id": "X3PBgyoOa1P8",
        "colab": {
          "base_uri": "https://localhost:8080/",
          "height": 283
        },
        "outputId": "b94a94e3-f416-4769-f637-b22eb85c6da5"
      },
      "source": [
        "reconstruction_threshold = np.median(loss_dist)\n",
        "\n",
        "loss_sc = []\n",
        "for i in loss_dist:\n",
        "    loss_sc.append((i,i))\n",
        "plt.axvline(x=upper_threshold,c='r')\n",
        "plt.scatter(*zip(*loss_sc))"
      ],
      "execution_count": null,
      "outputs": [
        {
          "output_type": "execute_result",
          "data": {
            "text/plain": [
              "<matplotlib.collections.PathCollection at 0x7fc852699f50>"
            ]
          },
          "metadata": {
            "tags": []
          },
          "execution_count": 31
        },
        {
          "output_type": "display_data",
          "data": {
            "image/png": "[encoded data removed]",
            "text/plain": [
              "<Figure size 432x288 with 1 Axes>"
            ]
          },
          "metadata": {
            "tags": [],
            "needs_background": "light"
          }
        }
      ]
    },
    {
      "cell_type": "code",
      "metadata": {
        "colab": {
          "base_uri": "https://localhost:8080/",
          "height": 465
        },
        "id": "oXF6bwjHBmp-",
        "outputId": "ee610755-117c-489e-a5d0-599ad2ba9f41"
      },
      "source": [
        "plt.figure(figsize=(12,6))\n",
        "plt.title('Loss Distribution')\n",
        "sns.distplot(loss_dist,bins=100,kde=True, color='blue')\n",
        "plt.axvline(reconstruction_threshold, 0.0, 10, color='r')"
      ],
      "execution_count": null,
      "outputs": [
        {
          "output_type": "stream",
          "text": [
            "/usr/local/lib/python3.7/dist-packages/seaborn/distributions.py:2557: FutureWarning: `distplot` is a deprecated function and will be removed in a future version. Please adapt your code to use either `displot` (a figure-level function with similar flexibility) or `histplot` (an axes-level function for histograms).\n",
            "  warnings.warn(msg, FutureWarning)\n"
          ],
          "name": "stderr"
        },
        {
          "output_type": "execute_result",
          "data": {
            "text/plain": [
              "<matplotlib.lines.Line2D at 0x7fc85266e910>"
            ]
          },
          "metadata": {
            "tags": []
          },
          "execution_count": 32
        },
        {
          "output_type": "display_data",
          "data": {
            "image/png": "[encoded data removed]",
            "text/plain": [
              "<Figure size 864x432 with 1 Axes>"
            ]
          },
          "metadata": {
            "tags": [],
            "needs_background": "light"
          }
        }
      ]
    },
    {
      "cell_type": "markdown",
      "metadata": {
        "id": "1_EhMdcYMEGu"
      },
      "source": [
        "Basing on the plot, the model has difficulty separating the classes.\n",
        "\n",
        "To fix that I might use KDE threshold. (I will disscuss the method the Possible Improvments section). \n",
        "\n",
        "\n",
        "So far I came up with an heuristic. I use median of all the reconstruction losses from the test dataset as the threshold since discriminator forces encoder to generate normal distribution."
      ]
    },
    {
      "cell_type": "markdown",
      "metadata": {
        "id": "oiA-ox32hQiw"
      },
      "source": [
        "### Predicting anomalies (Testing the model)"
      ]
    },
    {
      "cell_type": "code",
      "metadata": {
        "id": "zbR54UlOufcP"
      },
      "source": [
        "labels = []\n",
        "pred_label = []\n",
        "\n",
        "for X,label in get_data_loader(test_dataset,False,1):\n",
        "  if advers_encoder.cuda:\n",
        "    X = X.cuda()\n",
        "  z_sample = advers_encoder.encode(X)\n",
        "  X_sample = advers_encoder.decode(z_sample)\n",
        "  recon_loss = advers_encoder.calculate_reconstruction_loss(X_sample,X)\n",
        "\n",
        "  labels.append(label)\n",
        "  pred_label.append(int(recon_loss  >= reconstruction_threshold))"
      ],
      "execution_count": null,
      "outputs": []
    },
    {
      "cell_type": "markdown",
      "metadata": {
        "id": "rTbrh-FtxDMx"
      },
      "source": [
        "#### Confusion matrix"
      ]
    },
    {
      "cell_type": "code",
      "metadata": {
        "colab": {
          "base_uri": "https://localhost:8080/",
          "height": 283
        },
        "id": "99YXPPeXutQ4",
        "outputId": "7160d670-fd7f-482a-cd3a-cbfac06eb8be"
      },
      "source": [
        "tn,fp,fn,tp = confusion_matrix(pred_label ,labels).ravel()\n",
        "\n",
        "conf = [[tn,fp],[fn,tp]]\n",
        "plt.figure()\n",
        "sns.heatmap(conf,annot=True,annot_kws={\"size\": 16},fmt='g')"
      ],
      "execution_count": null,
      "outputs": [
        {
          "output_type": "execute_result",
          "data": {
            "text/plain": [
              "<matplotlib.axes._subplots.AxesSubplot at 0x7fc8d4527510>"
            ]
          },
          "metadata": {
            "tags": []
          },
          "execution_count": 29
        },
        {
          "output_type": "display_data",
          "data": {
            "image/png": "[encoded data removed]",
            "text/plain": [
              "<Figure size 432x288 with 2 Axes>"
            ]
          },
          "metadata": {
            "tags": [],
            "needs_background": "light"
          }
        }
      ]
    },
    {
      "cell_type": "markdown",
      "metadata": {
        "id": "t0CUvGEBa2nB"
      },
      "source": [
        "#### ROC cuve and AUC score"
      ]
    },
    {
      "cell_type": "code",
      "metadata": {
        "id": "6KsrkvwRa8cL",
        "colab": {
          "base_uri": "https://localhost:8080/",
          "height": 279
        },
        "outputId": "9930ec26-cf3c-478d-ba0f-d7fe266b0b16"
      },
      "source": [
        "fpr, tpr, thresholds = roc_curve(labels, pred_label)\n",
        "auroc_score = auc(fpr, tpr)\n",
        "\n",
        "title = f'Auroc Score = {round(auroc_score,2)}'\n",
        "plt.plot(fpr, tpr, label=title )\n",
        "plt.xlabel('False Positive Rate')\n",
        "plt.ylabel('True Positive Rate')\n",
        "plt.legend()\n",
        "plt.show()"
      ],
      "execution_count": null,
      "outputs": [
        {
          "output_type": "display_data",
          "data": {
            "image/png": "[encoded data removed]",
            "text/plain": [
              "<Figure size 432x288 with 1 Axes>"
            ]
          },
          "metadata": {
            "tags": [],
            "needs_background": "light"
          }
        }
      ]
    },
    {
      "cell_type": "markdown",
      "metadata": {
        "id": "Qdr-rLqwqLjX"
      },
      "source": [
        "### Possible Improvements"
      ]
    },
    {
      "cell_type": "markdown",
      "metadata": {
        "id": "JzFsBDdbqhW7"
      },
      "source": [
        "1) **[Robust Anomaly Detection in Images using Adversarial Autoencoders](https://arxiv.org/pdf/1901.06355.pdf)** paper proposes Kernel density estimation as a metric of anomalousness.\n",
        "\n",
        "Instead of relying on the reconstruction error they also consider the likehood of an image in latent space.\n",
        "\n",
        "Basically, it regards images that are far away from other images as anomalous.\n",
        "\n",
        "My implementation of the method didn't work, but in general it might be a good idea.\n",
        "\n",
        "\n",
        "2) Another thing that could be improved is the **train function in AdversialAutoencoder** class. Now I am performing all the phases in sequence (reconstruction, regularization, etc). It might help if I do reconstruction phase for a few epochs, and when it is good enough, start another phase (regularization).\n"
      ]
    },
    {
      "cell_type": "code",
      "metadata": {
        "id": "rhV38AP_2FiY"
      },
      "source": [
        ""
      ],
      "execution_count": null,
      "outputs": []
    }
  ]
}